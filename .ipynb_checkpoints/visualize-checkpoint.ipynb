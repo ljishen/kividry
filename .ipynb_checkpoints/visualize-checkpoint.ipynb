{
 "cells": [
  {
   "cell_type": "code",
   "execution_count": 2,
   "metadata": {
    "collapsed": false
   },
   "outputs": [],
   "source": [
    "%matplotlib inline\n",
    "import pandas as pd\n",
    "import matplotlib.pyplot as plt\n",
    "import numpy as np\n",
    "from IPython.display import HTML\n"
   ]
  },
  {
   "cell_type": "code",
   "execution_count": 3,
   "metadata": {
    "collapsed": false
   },
   "outputs": [],
   "source": [
    "df = pd.read_csv('alltests_with_normalized_results.csv')"
   ]
  },
  {
   "cell_type": "code",
   "execution_count": 4,
   "metadata": {
    "collapsed": false
   },
   "outputs": [],
   "source": [
    "norm_grouped = df.groupby(['benchmark', 'machine', 'limits'])['normalized'].mean().to_frame()"
   ]
  },
  {
   "cell_type": "code",
   "execution_count": 5,
   "metadata": {
    "collapsed": false
   },
   "outputs": [
    {
     "data": {
      "text/html": [
       "<table border=\"1\" class=\"dataframe\">\n",
       "  <thead>\n",
       "    <tr style=\"text-align: right;\">\n",
       "      <th></th>\n",
       "      <th></th>\n",
       "      <th></th>\n",
       "      <th>normalized</th>\n",
       "    </tr>\n",
       "    <tr>\n",
       "      <th>benchmark</th>\n",
       "      <th>machine</th>\n",
       "      <th>limits</th>\n",
       "      <th></th>\n",
       "    </tr>\n",
       "  </thead>\n",
       "  <tbody>\n",
       "    <tr>\n",
       "      <th rowspan=\"4\" valign=\"top\">stressng-cpu-bsearch</th>\n",
       "      <th rowspan=\"2\" valign=\"top\">issdm-3</th>\n",
       "      <th>quota-1000</th>\n",
       "      <td>7.918752</td>\n",
       "    </tr>\n",
       "    <tr>\n",
       "      <th>without</th>\n",
       "      <td>767.624948</td>\n",
       "    </tr>\n",
       "    <tr>\n",
       "      <th rowspan=\"2\" valign=\"top\">rackform1</th>\n",
       "      <th>quota-1001</th>\n",
       "      <td>6.534478</td>\n",
       "    </tr>\n",
       "    <tr>\n",
       "      <th>without</th>\n",
       "      <td>1517.313883</td>\n",
       "    </tr>\n",
       "    <tr>\n",
       "      <th rowspan=\"4\" valign=\"top\">stressng-cpu-cpu</th>\n",
       "      <th rowspan=\"2\" valign=\"top\">issdm-3</th>\n",
       "      <th>quota-1000</th>\n",
       "      <td>2.445788</td>\n",
       "    </tr>\n",
       "    <tr>\n",
       "      <th>without</th>\n",
       "      <td>2413.683345</td>\n",
       "    </tr>\n",
       "    <tr>\n",
       "      <th rowspan=\"2\" valign=\"top\">rackform1</th>\n",
       "      <th>quota-1001</th>\n",
       "      <td>1.876317</td>\n",
       "    </tr>\n",
       "    <tr>\n",
       "      <th>without</th>\n",
       "      <td>5324.509726</td>\n",
       "    </tr>\n",
       "    <tr>\n",
       "      <th rowspan=\"4\" valign=\"top\">stressng-cpu-crypt</th>\n",
       "      <th rowspan=\"2\" valign=\"top\">issdm-3</th>\n",
       "      <th>quota-1000</th>\n",
       "      <td>5.486145</td>\n",
       "    </tr>\n",
       "    <tr>\n",
       "      <th>without</th>\n",
       "      <td>566.861429</td>\n",
       "    </tr>\n",
       "    <tr>\n",
       "      <th rowspan=\"2\" valign=\"top\">rackform1</th>\n",
       "      <th>quota-1001</th>\n",
       "      <td>4.078258</td>\n",
       "    </tr>\n",
       "    <tr>\n",
       "      <th>without</th>\n",
       "      <td>929.899725</td>\n",
       "    </tr>\n",
       "    <tr>\n",
       "      <th rowspan=\"4\" valign=\"top\">stressng-cpu-hsearch</th>\n",
       "      <th rowspan=\"2\" valign=\"top\">issdm-3</th>\n",
       "      <th>quota-1000</th>\n",
       "      <td>9.747036</td>\n",
       "    </tr>\n",
       "    <tr>\n",
       "      <th>without</th>\n",
       "      <td>1069.157894</td>\n",
       "    </tr>\n",
       "    <tr>\n",
       "      <th rowspan=\"2\" valign=\"top\">rackform1</th>\n",
       "      <th>quota-1001</th>\n",
       "      <td>9.486921</td>\n",
       "    </tr>\n",
       "    <tr>\n",
       "      <th>without</th>\n",
       "      <td>2419.552053</td>\n",
       "    </tr>\n",
       "    <tr>\n",
       "      <th rowspan=\"4\" valign=\"top\">stressng-cpu-longjmp</th>\n",
       "      <th rowspan=\"2\" valign=\"top\">issdm-3</th>\n",
       "      <th>quota-1000</th>\n",
       "      <td>7.840187</td>\n",
       "    </tr>\n",
       "    <tr>\n",
       "      <th>without</th>\n",
       "      <td>801.832767</td>\n",
       "    </tr>\n",
       "    <tr>\n",
       "      <th rowspan=\"2\" valign=\"top\">rackform1</th>\n",
       "      <th>quota-1001</th>\n",
       "      <td>5.818498</td>\n",
       "    </tr>\n",
       "    <tr>\n",
       "      <th>without</th>\n",
       "      <td>1350.085952</td>\n",
       "    </tr>\n",
       "    <tr>\n",
       "      <th rowspan=\"4\" valign=\"top\">stressng-cpu-lsearch</th>\n",
       "      <th rowspan=\"2\" valign=\"top\">issdm-3</th>\n",
       "      <th>quota-1000</th>\n",
       "      <td>3.015935</td>\n",
       "    </tr>\n",
       "    <tr>\n",
       "      <th>without</th>\n",
       "      <td>132.308324</td>\n",
       "    </tr>\n",
       "    <tr>\n",
       "      <th rowspan=\"2\" valign=\"top\">rackform1</th>\n",
       "      <th>quota-1001</th>\n",
       "      <td>3.076227</td>\n",
       "    </tr>\n",
       "    <tr>\n",
       "      <th>without</th>\n",
       "      <td>175.369355</td>\n",
       "    </tr>\n",
       "    <tr>\n",
       "      <th rowspan=\"4\" valign=\"top\">stressng-cpu-str</th>\n",
       "      <th rowspan=\"2\" valign=\"top\">issdm-3</th>\n",
       "      <th>quota-1000</th>\n",
       "      <td>13.393572</td>\n",
       "    </tr>\n",
       "    <tr>\n",
       "      <th>without</th>\n",
       "      <td>1363.000089</td>\n",
       "    </tr>\n",
       "    <tr>\n",
       "      <th rowspan=\"2\" valign=\"top\">rackform1</th>\n",
       "      <th>quota-1001</th>\n",
       "      <td>15.335849</td>\n",
       "    </tr>\n",
       "    <tr>\n",
       "      <th>without</th>\n",
       "      <td>3806.689476</td>\n",
       "    </tr>\n",
       "    <tr>\n",
       "      <th rowspan=\"4\" valign=\"top\">stressng-cpu-stream</th>\n",
       "      <th rowspan=\"2\" valign=\"top\">issdm-3</th>\n",
       "      <th>quota-1000</th>\n",
       "      <td>10.899432</td>\n",
       "    </tr>\n",
       "    <tr>\n",
       "      <th>without</th>\n",
       "      <td>2009.771007</td>\n",
       "    </tr>\n",
       "    <tr>\n",
       "      <th rowspan=\"2\" valign=\"top\">rackform1</th>\n",
       "      <th>quota-1001</th>\n",
       "      <td>0.568964</td>\n",
       "    </tr>\n",
       "    <tr>\n",
       "      <th>without</th>\n",
       "      <td>644.129042</td>\n",
       "    </tr>\n",
       "    <tr>\n",
       "      <th rowspan=\"4\" valign=\"top\">stressng-cpu-tsearch</th>\n",
       "      <th rowspan=\"2\" valign=\"top\">issdm-3</th>\n",
       "      <th>quota-1000</th>\n",
       "      <td>2.423723</td>\n",
       "    </tr>\n",
       "    <tr>\n",
       "      <th>without</th>\n",
       "      <td>218.668952</td>\n",
       "    </tr>\n",
       "    <tr>\n",
       "      <th rowspan=\"2\" valign=\"top\">rackform1</th>\n",
       "      <th>quota-1001</th>\n",
       "      <td>2.028017</td>\n",
       "    </tr>\n",
       "    <tr>\n",
       "      <th>without</th>\n",
       "      <td>432.600850</td>\n",
       "    </tr>\n",
       "    <tr>\n",
       "      <th rowspan=\"4\" valign=\"top\">stressng-cpu-vecmath</th>\n",
       "      <th rowspan=\"2\" valign=\"top\">issdm-3</th>\n",
       "      <th>quota-1000</th>\n",
       "      <td>9.357258</td>\n",
       "    </tr>\n",
       "    <tr>\n",
       "      <th>without</th>\n",
       "      <td>954.476359</td>\n",
       "    </tr>\n",
       "    <tr>\n",
       "      <th rowspan=\"2\" valign=\"top\">rackform1</th>\n",
       "      <th>quota-1001</th>\n",
       "      <td>14.254576</td>\n",
       "    </tr>\n",
       "    <tr>\n",
       "      <th>without</th>\n",
       "      <td>3432.896208</td>\n",
       "    </tr>\n",
       "    <tr>\n",
       "      <th rowspan=\"4\" valign=\"top\">stressng-cpu-wcs</th>\n",
       "      <th rowspan=\"2\" valign=\"top\">issdm-3</th>\n",
       "      <th>quota-1000</th>\n",
       "      <td>9.687612</td>\n",
       "    </tr>\n",
       "    <tr>\n",
       "      <th>without</th>\n",
       "      <td>986.365632</td>\n",
       "    </tr>\n",
       "    <tr>\n",
       "      <th rowspan=\"2\" valign=\"top\">rackform1</th>\n",
       "      <th>quota-1001</th>\n",
       "      <td>7.474083</td>\n",
       "    </tr>\n",
       "    <tr>\n",
       "      <th>without</th>\n",
       "      <td>1759.247040</td>\n",
       "    </tr>\n",
       "  </tbody>\n",
       "</table>"
      ],
      "text/plain": [
       "<IPython.core.display.HTML object>"
      ]
     },
     "execution_count": 5,
     "metadata": {},
     "output_type": "execute_result"
    }
   ],
   "source": [
    "HTML(norm_grouped.to_html())"
   ]
  },
  {
   "cell_type": "code",
   "execution_count": 6,
   "metadata": {
    "collapsed": false,
    "scrolled": true
   },
   "outputs": [
    {
     "data": {
      "text/plain": [
       "22"
      ]
     },
     "execution_count": 6,
     "metadata": {},
     "output_type": "execute_result"
    }
   ],
   "source": [
    "withcpu_only = norm_grouped.copy()\n",
    "withcpu_only.reset_index(inplace=True)\n",
    "withcpu_only = withcpu_only[withcpu_only['limits'] != 'without']\n",
    "len(withcpu_only.index)"
   ]
  },
  {
   "cell_type": "code",
   "execution_count": 7,
   "metadata": {
    "collapsed": false
   },
   "outputs": [
    {
     "data": {
      "text/plain": [
       "0"
      ]
     },
     "execution_count": 7,
     "metadata": {},
     "output_type": "execute_result"
    }
   ],
   "source": [
    "# show number of tests with normalized result (speedup/slowdown) within 10% of the base result\n",
    "len(withcpu_only[(withcpu_only.normalized >= 0.90) & (withcpu_only.normalized <= 1.10)])"
   ]
  },
  {
   "cell_type": "code",
   "execution_count": 8,
   "metadata": {
    "collapsed": false
   },
   "outputs": [
    {
     "data": {
      "text/plain": [
       "22"
      ]
     },
     "execution_count": 8,
     "metadata": {},
     "output_type": "execute_result"
    }
   ],
   "source": [
    "# show number of tests with normalized result outside this 10%\n",
    "len(withcpu_only[((withcpu_only['normalized'] < 0.90) | (withcpu_only['normalized'] > 1.10))])"
   ]
  },
  {
   "cell_type": "code",
   "execution_count": 9,
   "metadata": {
    "collapsed": false
   },
   "outputs": [
    {
     "data": {
      "image/png": "[encoded data removed]",
      "text/plain": [
       "<matplotlib.figure.Figure at 0x7f09ac5f8e80>"
      ]
     },
     "metadata": {},
     "output_type": "display_data"
    }
   ],
   "source": [
    "plt.figure(figsize=(20,10))\n",
    "bins=[.5, .55,.6,.65,.7,.75,.8,.85,.9,.95,1,1.05,1.1,1.15,1.2,1.25,1.3,1.35,1.4,1.45,1.5,1.55,1.6,1.65,1.7,1.75,1.8,1.85,1.9,1.95,2]\n",
    "ax = withcpu_only[withcpu_only['machine'] == 'dwill.soe.ucsc.edu'].normalized.hist(bins=20,xrot=90)\n",
    "ticks = ax.set_xticks(bins)\n",
    "ticks = ax.set_yticks(range(0,16))"
   ]
  },
  {
   "cell_type": "code",
   "execution_count": 10,
   "metadata": {
    "collapsed": false
   },
   "outputs": [
    {
     "data": {
      "text/plain": [
       "0"
      ]
     },
     "execution_count": 10,
     "metadata": {},
     "output_type": "execute_result"
    }
   ],
   "source": [
    "withcpumem_only = norm_grouped.copy()\n",
    "withcpumem_only.reset_index(inplace=True)\n",
    "withcpumem_only = withcpumem_only[withcpumem_only['limits'] == 'withmemcpu']\n",
    "len(withcpumem_only.index)"
   ]
  },
  {
   "cell_type": "code",
   "execution_count": 11,
   "metadata": {
    "collapsed": false
   },
   "outputs": [
    {
     "data": {
      "image/png": "[encoded data removed]",
      "text/plain": [
       "<matplotlib.figure.Figure at 0x7f09ab3dada0>"
      ]
     },
     "metadata": {},
     "output_type": "display_data"
    }
   ],
   "source": [
    "plt.figure(figsize=(20,10))\n",
    "bins=[.5, .55,.6,.65,.7,.75,.8,.85,.9,.95,1,1.05,1.1,1.15,1.2,1.25,1.3,1.35,1.4,1.45,1.5,1.55,1.6,1.65,1.7,1.75,1.8,1.85,1.9,1.95,2]\n",
    "ax = withcpu_only.normalized.hist(bins=bins,xrot=90)\n",
    "ticks = ax.set_xticks(bins)\n",
    "ticks = ax.set_yticks(range(0,16))"
   ]
  },
  {
   "cell_type": "code",
   "execution_count": 12,
   "metadata": {
    "collapsed": false
   },
   "outputs": [],
   "source": [
    "df = pd.read_csv('alltests_with_normalized_results.csv')"
   ]
  },
  {
   "cell_type": "code",
   "execution_count": 13,
   "metadata": {
    "collapsed": false
   },
   "outputs": [
    {
     "data": {
      "text/plain": [
       "array(['stressng-cpu-bsearch', 'stressng-cpu-cpu', 'stressng-cpu-crypt',\n",
       "       'stressng-cpu-hsearch', 'stressng-cpu-longjmp',\n",
       "       'stressng-cpu-lsearch', 'stressng-cpu-str', 'stressng-cpu-stream',\n",
       "       'stressng-cpu-tsearch', 'stressng-cpu-vecmath', 'stressng-cpu-wcs'], dtype=object)"
      ]
     },
     "execution_count": 13,
     "metadata": {},
     "output_type": "execute_result"
    }
   ],
   "source": [
    "df.benchmark.unique()"
   ]
  },
  {
   "cell_type": "code",
   "execution_count": 14,
   "metadata": {
    "collapsed": false
   },
   "outputs": [
    {
     "data": {
      "text/plain": [
       "11"
      ]
     },
     "execution_count": 14,
     "metadata": {},
     "output_type": "execute_result"
    }
   ],
   "source": [
    "len(df.benchmark.unique())"
   ]
  },
  {
   "cell_type": "code",
   "execution_count": 21,
   "metadata": {
    "collapsed": true
   },
   "outputs": [],
   "source": [
    "norm_grouped = df.copy().groupby(['benchmark','machine', 'limits', 'class'])['normalized'].mean().to_frame()"
   ]
  },
  {
   "cell_type": "code",
   "execution_count": 22,
   "metadata": {
    "collapsed": false
   },
   "outputs": [],
   "source": [
    "norm_grouped.reset_index(inplace=True)\n"
   ]
  },
  {
   "cell_type": "code",
   "execution_count": 23,
   "metadata": {
    "collapsed": false
   },
   "outputs": [
    {
     "data": {
      "text/html": [
       "<div>\n",
       "<table border=\"1\" class=\"dataframe\">\n",
       "  <thead>\n",
       "    <tr style=\"text-align: right;\">\n",
       "      <th></th>\n",
       "      <th></th>\n",
       "      <th></th>\n",
       "      <th>normalized</th>\n",
       "    </tr>\n",
       "    <tr>\n",
       "      <th>machine</th>\n",
       "      <th>limits</th>\n",
       "      <th>class</th>\n",
       "      <th></th>\n",
       "    </tr>\n",
       "  </thead>\n",
       "  <tbody>\n",
       "    <tr>\n",
       "      <th rowspan=\"2\" valign=\"top\">issdm-3</th>\n",
       "      <th>quota-1000</th>\n",
       "      <th>cpu</th>\n",
       "      <td>7.474131</td>\n",
       "    </tr>\n",
       "    <tr>\n",
       "      <th>without</th>\n",
       "      <th>cpu</th>\n",
       "      <td>1025.795522</td>\n",
       "    </tr>\n",
       "    <tr>\n",
       "      <th rowspan=\"2\" valign=\"top\">rackform1</th>\n",
       "      <th>quota-1001</th>\n",
       "      <th>cpu</th>\n",
       "      <td>6.412017</td>\n",
       "    </tr>\n",
       "    <tr>\n",
       "      <th>without</th>\n",
       "      <th>cpu</th>\n",
       "      <td>1981.117574</td>\n",
       "    </tr>\n",
       "  </tbody>\n",
       "</table>\n",
       "</div>"
      ],
      "text/plain": [
       "                             normalized\n",
       "machine   limits     class             \n",
       "issdm-3   quota-1000 cpu       7.474131\n",
       "          without    cpu    1025.795522\n",
       "rackform1 quota-1001 cpu       6.412017\n",
       "          without    cpu    1981.117574"
      ]
     },
     "execution_count": 23,
     "metadata": {},
     "output_type": "execute_result"
    }
   ],
   "source": [
    "norm_grouped.copy().groupby(['machine', 'limits', 'class'])['normalized'].mean().to_frame()"
   ]
  },
  {
   "cell_type": "code",
   "execution_count": 24,
   "metadata": {
    "collapsed": false
   },
   "outputs": [
    {
     "data": {
      "text/html": [
       "<div>\n",
       "<table border=\"1\" class=\"dataframe\">\n",
       "  <thead>\n",
       "    <tr style=\"text-align: right;\">\n",
       "      <th></th>\n",
       "      <th></th>\n",
       "      <th></th>\n",
       "      <th>normalized</th>\n",
       "    </tr>\n",
       "    <tr>\n",
       "      <th>machine</th>\n",
       "      <th>limits</th>\n",
       "      <th>class</th>\n",
       "      <th></th>\n",
       "    </tr>\n",
       "  </thead>\n",
       "  <tbody>\n",
       "    <tr>\n",
       "      <th rowspan=\"2\" valign=\"top\">issdm-3</th>\n",
       "      <th>quota-1000</th>\n",
       "      <th>cpu</th>\n",
       "      <td>7.918752</td>\n",
       "    </tr>\n",
       "    <tr>\n",
       "      <th>without</th>\n",
       "      <th>cpu</th>\n",
       "      <td>954.476359</td>\n",
       "    </tr>\n",
       "    <tr>\n",
       "      <th rowspan=\"2\" valign=\"top\">rackform1</th>\n",
       "      <th>quota-1001</th>\n",
       "      <th>cpu</th>\n",
       "      <td>5.818498</td>\n",
       "    </tr>\n",
       "    <tr>\n",
       "      <th>without</th>\n",
       "      <th>cpu</th>\n",
       "      <td>1517.313883</td>\n",
       "    </tr>\n",
       "  </tbody>\n",
       "</table>\n",
       "</div>"
      ],
      "text/plain": [
       "                             normalized\n",
       "machine   limits     class             \n",
       "issdm-3   quota-1000 cpu       7.918752\n",
       "          without    cpu     954.476359\n",
       "rackform1 quota-1001 cpu       5.818498\n",
       "          without    cpu    1517.313883"
      ]
     },
     "execution_count": 24,
     "metadata": {},
     "output_type": "execute_result"
    }
   ],
   "source": [
    "norm_grouped.copy().groupby(['machine', 'limits', 'class'])['normalized'].median().to_frame()"
   ]
  },
  {
   "cell_type": "code",
   "execution_count": 25,
   "metadata": {
    "collapsed": false
   },
   "outputs": [
    {
     "data": {
      "text/html": [
       "<div>\n",
       "<table border=\"1\" class=\"dataframe\">\n",
       "  <thead>\n",
       "    <tr style=\"text-align: right;\">\n",
       "      <th></th>\n",
       "      <th></th>\n",
       "      <th></th>\n",
       "      <th>normalized</th>\n",
       "    </tr>\n",
       "    <tr>\n",
       "      <th>machine</th>\n",
       "      <th>limits</th>\n",
       "      <th>class</th>\n",
       "      <th></th>\n",
       "    </tr>\n",
       "  </thead>\n",
       "  <tbody>\n",
       "  </tbody>\n",
       "</table>\n",
       "</div>"
      ],
      "text/plain": [
       "Empty DataFrame\n",
       "Columns: [normalized]\n",
       "Index: []"
      ]
     },
     "execution_count": 25,
     "metadata": {},
     "output_type": "execute_result"
    }
   ],
   "source": [
    "norm_grouped[(norm_grouped.normalized > .83) & (norm_grouped.normalized < .93)].copy().groupby(['machine', 'limits', 'class'])['normalized'].count().to_frame()"
   ]
  },
  {
   "cell_type": "code",
   "execution_count": 26,
   "metadata": {
    "collapsed": false
   },
   "outputs": [
    {
     "data": {
      "text/plain": [
       "array(['cpu'], dtype=object)"
      ]
     },
     "execution_count": 26,
     "metadata": {},
     "output_type": "execute_result"
    }
   ],
   "source": [
    "pd.unique(norm_grouped['class'])"
   ]
  },
  {
   "cell_type": "code",
   "execution_count": 27,
   "metadata": {
    "collapsed": false
   },
   "outputs": [
    {
     "data": {
      "text/html": [
       "<div>\n",
       "<table border=\"1\" class=\"dataframe\">\n",
       "  <thead>\n",
       "    <tr style=\"text-align: right;\">\n",
       "      <th></th>\n",
       "      <th>benchmark</th>\n",
       "      <th>base_result</th>\n",
       "      <th>machine</th>\n",
       "      <th>limits</th>\n",
       "      <th>class</th>\n",
       "      <th>lower_is_better</th>\n",
       "      <th>repetition</th>\n",
       "      <th>result</th>\n",
       "      <th>normalized</th>\n",
       "    </tr>\n",
       "  </thead>\n",
       "  <tbody>\n",
       "  </tbody>\n",
       "</table>\n",
       "</div>"
      ],
      "text/plain": [
       "Empty DataFrame\n",
       "Columns: [benchmark, base_result, machine, limits, class, lower_is_better, repetition, result, normalized]\n",
       "Index: []"
      ]
     },
     "execution_count": 27,
     "metadata": {},
     "output_type": "execute_result"
    }
   ],
   "source": [
    "df[(df['machine'] == 'nibbler.soe.ucsc.edu') & (df['benchmark'] == 'stressng-cpu-bitops')]"
   ]
  },
  {
   "cell_type": "code",
   "execution_count": 28,
   "metadata": {
    "collapsed": false
   },
   "outputs": [
    {
     "data": {
      "text/plain": [
       "array(['issdm-3', 'rackform1'], dtype=object)"
      ]
     },
     "execution_count": 28,
     "metadata": {},
     "output_type": "execute_result"
    }
   ],
   "source": [
    "pd.unique(norm_grouped.machine)"
   ]
  },
  {
   "cell_type": "code",
   "execution_count": 30,
   "metadata": {
    "collapsed": false
   },
   "outputs": [
    {
     "data": {
      "text/html": [
       "<div>\n",
       "<table border=\"1\" class=\"dataframe\">\n",
       "  <thead>\n",
       "    <tr style=\"text-align: right;\">\n",
       "      <th></th>\n",
       "      <th>benchmark</th>\n",
       "      <th>machine</th>\n",
       "      <th>limits</th>\n",
       "      <th>class</th>\n",
       "      <th>normalized</th>\n",
       "    </tr>\n",
       "  </thead>\n",
       "  <tbody>\n",
       "  </tbody>\n",
       "</table>\n",
       "</div>"
      ],
      "text/plain": [
       "Empty DataFrame\n",
       "Columns: [benchmark, machine, limits, class, normalized]\n",
       "Index: []"
      ]
     },
     "execution_count": 30,
     "metadata": {},
     "output_type": "execute_result"
    }
   ],
   "source": [
    "norm_grouped[(norm_grouped['machine'] == '192.168.140.82') & (norm_grouped.limits =='without') & (norm_grouped.normalized > 18)]"
   ]
  },
  {
   "cell_type": "code",
   "execution_count": 31,
   "metadata": {
    "collapsed": false
   },
   "outputs": [
    {
     "data": {
      "text/html": [
       "<div>\n",
       "<table border=\"1\" class=\"dataframe\">\n",
       "  <thead>\n",
       "    <tr style=\"text-align: right;\">\n",
       "      <th></th>\n",
       "      <th>machine</th>\n",
       "      <th>limits</th>\n",
       "      <th>class</th>\n",
       "      <th>normalized_max</th>\n",
       "      <th>normalized_min</th>\n",
       "      <th>range</th>\n",
       "    </tr>\n",
       "  </thead>\n",
       "  <tbody>\n",
       "    <tr>\n",
       "      <th>0</th>\n",
       "      <td>issdm-3</td>\n",
       "      <td>quota-1000</td>\n",
       "      <td>cpu</td>\n",
       "      <td>13.393572</td>\n",
       "      <td>2.423723</td>\n",
       "      <td>10.969849</td>\n",
       "    </tr>\n",
       "    <tr>\n",
       "      <th>1</th>\n",
       "      <td>issdm-3</td>\n",
       "      <td>without</td>\n",
       "      <td>cpu</td>\n",
       "      <td>2413.683345</td>\n",
       "      <td>132.308324</td>\n",
       "      <td>2281.375021</td>\n",
       "    </tr>\n",
       "    <tr>\n",
       "      <th>2</th>\n",
       "      <td>rackform1</td>\n",
       "      <td>quota-1001</td>\n",
       "      <td>cpu</td>\n",
       "      <td>15.335849</td>\n",
       "      <td>0.568964</td>\n",
       "      <td>14.766885</td>\n",
       "    </tr>\n",
       "    <tr>\n",
       "      <th>3</th>\n",
       "      <td>rackform1</td>\n",
       "      <td>without</td>\n",
       "      <td>cpu</td>\n",
       "      <td>5324.509726</td>\n",
       "      <td>175.369355</td>\n",
       "      <td>5149.140371</td>\n",
       "    </tr>\n",
       "  </tbody>\n",
       "</table>\n",
       "</div>"
      ],
      "text/plain": [
       "     machine      limits class  normalized_max  normalized_min        range\n",
       "0    issdm-3  quota-1000   cpu       13.393572        2.423723    10.969849\n",
       "1    issdm-3     without   cpu     2413.683345      132.308324  2281.375021\n",
       "2  rackform1  quota-1001   cpu       15.335849        0.568964    14.766885\n",
       "3  rackform1     without   cpu     5324.509726      175.369355  5149.140371"
      ]
     },
     "execution_count": 31,
     "metadata": {},
     "output_type": "execute_result"
    }
   ],
   "source": [
    "maxes = norm_grouped.groupby(['machine', 'limits']).max()\n",
    "maxes.reset_index(inplace=True)\n",
    "maxes.rename(columns={'normalized': 'normalized_max'}, inplace=True)\n",
    "\n",
    "mines = norm_grouped.groupby(['machine', 'limits']).min()\n",
    "mines.reset_index(inplace=True)\n",
    "mines.rename(columns={'normalized': 'normalized_min'}, inplace=True)\n",
    "\n",
    "mines.drop('benchmark', axis=1, inplace=True)\n",
    "maxes.drop('benchmark', axis=1, inplace=True)\n",
    "\n",
    "maxs_and_mins = pd.merge(maxes, mines, on=['machine','limits','class'])\n",
    "maxs_and_mins['range'] = maxs_and_mins['normalized_max'] - maxs_and_mins['normalized_min']\n",
    "maxs_and_mins"
   ]
  },
  {
   "cell_type": "code",
   "execution_count": 32,
   "metadata": {
    "collapsed": false
   },
   "outputs": [
    {
     "data": {
      "text/html": [
       "<div>\n",
       "<table border=\"1\" class=\"dataframe\">\n",
       "  <thead>\n",
       "    <tr style=\"text-align: right;\">\n",
       "      <th></th>\n",
       "      <th></th>\n",
       "      <th>benchmark</th>\n",
       "      <th>class</th>\n",
       "      <th>normalized</th>\n",
       "    </tr>\n",
       "    <tr>\n",
       "      <th>machine</th>\n",
       "      <th>limits</th>\n",
       "      <th></th>\n",
       "      <th></th>\n",
       "      <th></th>\n",
       "    </tr>\n",
       "  </thead>\n",
       "  <tbody>\n",
       "    <tr>\n",
       "      <th rowspan=\"2\" valign=\"top\">issdm-3</th>\n",
       "      <th>quota-1000</th>\n",
       "      <td>stressng-cpu-bsearch</td>\n",
       "      <td>cpu</td>\n",
       "      <td>2.423723</td>\n",
       "    </tr>\n",
       "    <tr>\n",
       "      <th>without</th>\n",
       "      <td>stressng-cpu-bsearch</td>\n",
       "      <td>cpu</td>\n",
       "      <td>132.308324</td>\n",
       "    </tr>\n",
       "    <tr>\n",
       "      <th rowspan=\"2\" valign=\"top\">rackform1</th>\n",
       "      <th>quota-1001</th>\n",
       "      <td>stressng-cpu-bsearch</td>\n",
       "      <td>cpu</td>\n",
       "      <td>0.568964</td>\n",
       "    </tr>\n",
       "    <tr>\n",
       "      <th>without</th>\n",
       "      <td>stressng-cpu-bsearch</td>\n",
       "      <td>cpu</td>\n",
       "      <td>175.369355</td>\n",
       "    </tr>\n",
       "  </tbody>\n",
       "</table>\n",
       "</div>"
      ],
      "text/plain": [
       "                                 benchmark class  normalized\n",
       "machine   limits                                            \n",
       "issdm-3   quota-1000  stressng-cpu-bsearch   cpu    2.423723\n",
       "          without     stressng-cpu-bsearch   cpu  132.308324\n",
       "rackform1 quota-1001  stressng-cpu-bsearch   cpu    0.568964\n",
       "          without     stressng-cpu-bsearch   cpu  175.369355"
      ]
     },
     "execution_count": 32,
     "metadata": {},
     "output_type": "execute_result"
    }
   ],
   "source": [
    "norm_grouped.groupby(['machine', 'limits']).min()"
   ]
  },
  {
   "cell_type": "code",
   "execution_count": 34,
   "metadata": {
    "collapsed": false
   },
   "outputs": [
    {
     "data": {
      "image/png": "[encoded data removed]",
      "text/plain": [
       "<matplotlib.figure.Figure at 0x7f09ab91d780>"
      ]
     },
     "metadata": {},
     "output_type": "display_data"
    }
   ],
   "source": [
    "#plt.figure(figsize=(20,10))\n",
    "bins=[.5, .55,.6,.65,.7,.75,.8,.85,.9,.95,1,1.05,1.1,1.15,1.2,1.25,1.3,1.35,1.4,1.45,1.5,1.55,1.6,1.65,1.7,1.75,1.8,1.85,1.9,1.95,2,3.25,3.5,3.75,4,4.25,4.5,4.75,5,6,7,8,9]\n",
    "pred=(\n",
    "      (norm_grouped['machine'] == 'issdm-3'))\n",
    "\n",
    "ax = norm_grouped[pred].groupby('limits').normalized.hist(bins=np.arange(0,8,.1),xrot=90,figsize=(16,6),alpha=0.5)\n",
    "ticks = ax[0].set_xticks(np.arange(0,8,.1))\n",
    "ticks = ax[0].set_yticks(range(0,25))\n",
    "plt.xlabel('Speedup (re-execution / original)')\n",
    "plt.ylabel('Frequency (# of benchmarks)')\n",
    "plt.savefig('with_and_without_limits.png', bbox_inches='tight', dpi=300)"
   ]
  },
  {
   "cell_type": "code",
   "execution_count": 36,
   "metadata": {
    "collapsed": false
   },
   "outputs": [
    {
     "data": {
      "image/png": "[encoded data removed]",
      "text/plain": [
       "<matplotlib.figure.Figure at 0x7f09a3d887f0>"
      ]
     },
     "metadata": {},
     "output_type": "display_data"
    }
   ],
   "source": [
    "#plt.figure(figsize=(20,10))\n",
    "bins=[.5, .55,.6,.65,.7,.75,.8,.85,.9,.95,1,1.05,1.1,1.15,1.2,1.25,1.3,1.35,1.4,1.45,1.5,1.55,1.6,1.65,1.7,1.75,1.8,1.85,1.9,1.95,2,3.25,3.5,3.75,4,4.25,4.5,4.75,5,6,7,8,9]\n",
    "pred=(\n",
    "      (norm_grouped['machine'] == 'issdm-3'))\n",
    "\n",
    "ax = norm_grouped[pred].groupby('limits').normalized.hist(bins=np.arange(0,8,.1),xrot=90,figsize=(16,6),alpha=0.5)\n",
    "plt.axvline(x=2.6,color='b',linewidth=3, alpha=0.5)\n",
    "plt.axvline(x=.5,color='b',linewidth=3, alpha=0.5)\n",
    "plt.axvline(x=7.2,color='g',linewidth=3, alpha=0.5)\n",
    "plt.axvline(x=1.6,color='g',linewidth=3, alpha=0.5)\n",
    "ticks = ax[0].set_xticks(np.arange(0,8,.1))\n",
    "ticks = ax[0].set_yticks(range(0,17))\n",
    "plt.xlabel('Speedup (re-execution / original)')\n",
    "plt.ylabel('Frequency (# of benchmarks)')\n",
    "plt.savefig('benchmarks.png', bbox_inches='tight', dpi=300)"
   ]
  },
  {
   "cell_type": "code",
   "execution_count": null,
   "metadata": {
    "collapsed": false
   },
   "outputs": [],
   "source": [
    "norm_grouped[(norm_grouped['machine'] == '192.168.140.86') & (norm_grouped.limits == 'without') & (norm_grouped.normalized < 1.6)]"
   ]
  }
 ],
 "metadata": {
  "kernelspec": {
   "display_name": "Python 3",
   "language": "python",
   "name": "python3"
  },
  "language_info": {
   "codemirror_mode": {
    "name": "ipython",
    "version": 3
   },
   "file_extension": ".py",
   "mimetype": "text/x-python",
   "name": "python",
   "nbconvert_exporter": "python",
   "pygments_lexer": "ipython3",
   "version": "3.5.1"
  },
  "widgets": {
   "state": {},
   "version": "1.1.1"
  }
 },
 "nbformat": 4,
 "nbformat_minor": 0
}
