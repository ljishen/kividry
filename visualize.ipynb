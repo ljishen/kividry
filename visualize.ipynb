{
 "cells": [
  {
   "cell_type": "code",
   "execution_count": 1,
   "metadata": {
    "collapsed": false
   },
   "outputs": [
    {
     "name": "stderr",
     "output_type": "stream",
     "text": [
      "/opt/conda/lib/python3.5/site-packages/matplotlib/font_manager.py:273: UserWarning: Matplotlib is building the font cache using fc-list. This may take a moment.\n",
      "  warnings.warn('Matplotlib is building the font cache using fc-list. This may take a moment.')\n",
      "/opt/conda/lib/python3.5/site-packages/matplotlib/font_manager.py:273: UserWarning: Matplotlib is building the font cache using fc-list. This may take a moment.\n",
      "  warnings.warn('Matplotlib is building the font cache using fc-list. This may take a moment.')\n"
     ]
    }
   ],
   "source": [
    "%matplotlib inline\n",
    "import pandas as pd\n",
    "import matplotlib.pyplot as plt\n",
    "import numpy as np\n",
    "from IPython.display import HTML\n"
   ]
  },
  {
   "cell_type": "code",
   "execution_count": 2,
   "metadata": {
    "collapsed": false
   },
   "outputs": [],
   "source": [
    "df = pd.read_csv('alltests_with_normalized_results.csv')"
   ]
  },
  {
   "cell_type": "code",
   "execution_count": 3,
   "metadata": {
    "collapsed": false
   },
   "outputs": [],
   "source": [
    "norm_grouped = df.groupby(['benchmark', 'machine', 'limits'])['normalized'].mean().to_frame()"
   ]
  },
  {
   "cell_type": "code",
   "execution_count": 4,
   "metadata": {
    "collapsed": false
   },
   "outputs": [
    {
     "data": {
      "text/html": [
       "<table border=\"1\" class=\"dataframe\">\n",
       "  <thead>\n",
       "    <tr style=\"text-align: right;\">\n",
       "      <th></th>\n",
       "      <th></th>\n",
       "      <th></th>\n",
       "      <th>normalized</th>\n",
       "    </tr>\n",
       "    <tr>\n",
       "      <th>benchmark</th>\n",
       "      <th>machine</th>\n",
       "      <th>limits</th>\n",
       "      <th></th>\n",
       "    </tr>\n",
       "  </thead>\n",
       "  <tbody>\n",
       "    <tr>\n",
       "      <th rowspan=\"4\" valign=\"top\">stressng-cpu-bsearch</th>\n",
       "      <th rowspan=\"2\" valign=\"top\">issdm-3</th>\n",
       "      <th>quota-1000</th>\n",
       "      <td>7.918752</td>\n",
       "    </tr>\n",
       "    <tr>\n",
       "      <th>without</th>\n",
       "      <td>767.624948</td>\n",
       "    </tr>\n",
       "    <tr>\n",
       "      <th rowspan=\"2\" valign=\"top\">rackform1</th>\n",
       "      <th>quota-1001</th>\n",
       "      <td>6.534478</td>\n",
       "    </tr>\n",
       "    <tr>\n",
       "      <th>without</th>\n",
       "      <td>1517.313883</td>\n",
       "    </tr>\n",
       "    <tr>\n",
       "      <th rowspan=\"4\" valign=\"top\">stressng-cpu-context</th>\n",
       "      <th rowspan=\"2\" valign=\"top\">issdm-3</th>\n",
       "      <th>quota-1000</th>\n",
       "      <td>3.484495</td>\n",
       "    </tr>\n",
       "    <tr>\n",
       "      <th>without</th>\n",
       "      <td>372.957666</td>\n",
       "    </tr>\n",
       "    <tr>\n",
       "      <th rowspan=\"2\" valign=\"top\">rackform1</th>\n",
       "      <th>quota-1001</th>\n",
       "      <td>1.117845</td>\n",
       "    </tr>\n",
       "    <tr>\n",
       "      <th>without</th>\n",
       "      <td>289.050363</td>\n",
       "    </tr>\n",
       "    <tr>\n",
       "      <th rowspan=\"4\" valign=\"top\">stressng-cpu-cpu</th>\n",
       "      <th rowspan=\"2\" valign=\"top\">issdm-3</th>\n",
       "      <th>quota-1000</th>\n",
       "      <td>2.445788</td>\n",
       "    </tr>\n",
       "    <tr>\n",
       "      <th>without</th>\n",
       "      <td>2413.683345</td>\n",
       "    </tr>\n",
       "    <tr>\n",
       "      <th rowspan=\"2\" valign=\"top\">rackform1</th>\n",
       "      <th>quota-1001</th>\n",
       "      <td>1.876317</td>\n",
       "    </tr>\n",
       "    <tr>\n",
       "      <th>without</th>\n",
       "      <td>5324.509726</td>\n",
       "    </tr>\n",
       "    <tr>\n",
       "      <th rowspan=\"4\" valign=\"top\">stressng-cpu-crypt</th>\n",
       "      <th rowspan=\"2\" valign=\"top\">issdm-3</th>\n",
       "      <th>quota-1000</th>\n",
       "      <td>5.486145</td>\n",
       "    </tr>\n",
       "    <tr>\n",
       "      <th>without</th>\n",
       "      <td>566.861429</td>\n",
       "    </tr>\n",
       "    <tr>\n",
       "      <th rowspan=\"2\" valign=\"top\">rackform1</th>\n",
       "      <th>quota-1001</th>\n",
       "      <td>4.078258</td>\n",
       "    </tr>\n",
       "    <tr>\n",
       "      <th>without</th>\n",
       "      <td>929.899725</td>\n",
       "    </tr>\n",
       "    <tr>\n",
       "      <th rowspan=\"4\" valign=\"top\">stressng-cpu-full</th>\n",
       "      <th rowspan=\"2\" valign=\"top\">issdm-3</th>\n",
       "      <th>quota-1000</th>\n",
       "      <td>4.955132</td>\n",
       "    </tr>\n",
       "    <tr>\n",
       "      <th>without</th>\n",
       "      <td>508.400706</td>\n",
       "    </tr>\n",
       "    <tr>\n",
       "      <th rowspan=\"2\" valign=\"top\">rackform1</th>\n",
       "      <th>quota-1001</th>\n",
       "      <td>2.943736</td>\n",
       "    </tr>\n",
       "    <tr>\n",
       "      <th>without</th>\n",
       "      <td>701.248194</td>\n",
       "    </tr>\n",
       "    <tr>\n",
       "      <th rowspan=\"4\" valign=\"top\">stressng-cpu-hsearch</th>\n",
       "      <th rowspan=\"2\" valign=\"top\">issdm-3</th>\n",
       "      <th>quota-1000</th>\n",
       "      <td>9.747036</td>\n",
       "    </tr>\n",
       "    <tr>\n",
       "      <th>without</th>\n",
       "      <td>1069.157894</td>\n",
       "    </tr>\n",
       "    <tr>\n",
       "      <th rowspan=\"2\" valign=\"top\">rackform1</th>\n",
       "      <th>quota-1001</th>\n",
       "      <td>9.486921</td>\n",
       "    </tr>\n",
       "    <tr>\n",
       "      <th>without</th>\n",
       "      <td>2419.552053</td>\n",
       "    </tr>\n",
       "    <tr>\n",
       "      <th rowspan=\"4\" valign=\"top\">stressng-cpu-longjmp</th>\n",
       "      <th rowspan=\"2\" valign=\"top\">issdm-3</th>\n",
       "      <th>quota-1000</th>\n",
       "      <td>7.840187</td>\n",
       "    </tr>\n",
       "    <tr>\n",
       "      <th>without</th>\n",
       "      <td>801.832767</td>\n",
       "    </tr>\n",
       "    <tr>\n",
       "      <th rowspan=\"2\" valign=\"top\">rackform1</th>\n",
       "      <th>quota-1001</th>\n",
       "      <td>5.818498</td>\n",
       "    </tr>\n",
       "    <tr>\n",
       "      <th>without</th>\n",
       "      <td>1350.085952</td>\n",
       "    </tr>\n",
       "    <tr>\n",
       "      <th rowspan=\"4\" valign=\"top\">stressng-cpu-lsearch</th>\n",
       "      <th rowspan=\"2\" valign=\"top\">issdm-3</th>\n",
       "      <th>quota-1000</th>\n",
       "      <td>3.015935</td>\n",
       "    </tr>\n",
       "    <tr>\n",
       "      <th>without</th>\n",
       "      <td>132.308324</td>\n",
       "    </tr>\n",
       "    <tr>\n",
       "      <th rowspan=\"2\" valign=\"top\">rackform1</th>\n",
       "      <th>quota-1001</th>\n",
       "      <td>3.076227</td>\n",
       "    </tr>\n",
       "    <tr>\n",
       "      <th>without</th>\n",
       "      <td>175.369355</td>\n",
       "    </tr>\n",
       "    <tr>\n",
       "      <th rowspan=\"4\" valign=\"top\">stressng-cpu-malloc</th>\n",
       "      <th rowspan=\"2\" valign=\"top\">issdm-3</th>\n",
       "      <th>quota-1000</th>\n",
       "      <td>3.358470</td>\n",
       "    </tr>\n",
       "    <tr>\n",
       "      <th>without</th>\n",
       "      <td>977.570416</td>\n",
       "    </tr>\n",
       "    <tr>\n",
       "      <th rowspan=\"2\" valign=\"top\">rackform1</th>\n",
       "      <th>quota-1001</th>\n",
       "      <td>3.435167</td>\n",
       "    </tr>\n",
       "    <tr>\n",
       "      <th>without</th>\n",
       "      <td>2166.872853</td>\n",
       "    </tr>\n",
       "    <tr>\n",
       "      <th rowspan=\"4\" valign=\"top\">stressng-cpu-matrix</th>\n",
       "      <th rowspan=\"2\" valign=\"top\">issdm-3</th>\n",
       "      <th>quota-1000</th>\n",
       "      <td>69.287564</td>\n",
       "    </tr>\n",
       "    <tr>\n",
       "      <th>without</th>\n",
       "      <td>6977.717259</td>\n",
       "    </tr>\n",
       "    <tr>\n",
       "      <th rowspan=\"2\" valign=\"top\">rackform1</th>\n",
       "      <th>quota-1001</th>\n",
       "      <td>39.421328</td>\n",
       "    </tr>\n",
       "    <tr>\n",
       "      <th>without</th>\n",
       "      <td>9060.009838</td>\n",
       "    </tr>\n",
       "    <tr>\n",
       "      <th rowspan=\"4\" valign=\"top\">stressng-cpu-memcpy</th>\n",
       "      <th rowspan=\"2\" valign=\"top\">issdm-3</th>\n",
       "      <th>quota-1000</th>\n",
       "      <td>6.053621</td>\n",
       "    </tr>\n",
       "    <tr>\n",
       "      <th>without</th>\n",
       "      <td>603.053748</td>\n",
       "    </tr>\n",
       "    <tr>\n",
       "      <th rowspan=\"2\" valign=\"top\">rackform1</th>\n",
       "      <th>quota-1001</th>\n",
       "      <td>14.242457</td>\n",
       "    </tr>\n",
       "    <tr>\n",
       "      <th>without</th>\n",
       "      <td>3350.842464</td>\n",
       "    </tr>\n",
       "    <tr>\n",
       "      <th rowspan=\"4\" valign=\"top\">stressng-cpu-mincore</th>\n",
       "      <th rowspan=\"2\" valign=\"top\">issdm-3</th>\n",
       "      <th>quota-1000</th>\n",
       "      <td>6.746017</td>\n",
       "    </tr>\n",
       "    <tr>\n",
       "      <th>without</th>\n",
       "      <td>714.042576</td>\n",
       "    </tr>\n",
       "    <tr>\n",
       "      <th rowspan=\"2\" valign=\"top\">rackform1</th>\n",
       "      <th>quota-1001</th>\n",
       "      <td>2.586468</td>\n",
       "    </tr>\n",
       "    <tr>\n",
       "      <th>without</th>\n",
       "      <td>698.089908</td>\n",
       "    </tr>\n",
       "    <tr>\n",
       "      <th rowspan=\"4\" valign=\"top\">stressng-cpu-null</th>\n",
       "      <th rowspan=\"2\" valign=\"top\">issdm-3</th>\n",
       "      <th>quota-1000</th>\n",
       "      <td>6.707432</td>\n",
       "    </tr>\n",
       "    <tr>\n",
       "      <th>without</th>\n",
       "      <td>639.000464</td>\n",
       "    </tr>\n",
       "    <tr>\n",
       "      <th rowspan=\"2\" valign=\"top\">rackform1</th>\n",
       "      <th>quota-1001</th>\n",
       "      <td>2.215097</td>\n",
       "    </tr>\n",
       "    <tr>\n",
       "      <th>without</th>\n",
       "      <td>592.513767</td>\n",
       "    </tr>\n",
       "    <tr>\n",
       "      <th rowspan=\"4\" valign=\"top\">stressng-cpu-pipe</th>\n",
       "      <th rowspan=\"2\" valign=\"top\">issdm-3</th>\n",
       "      <th>quota-1000</th>\n",
       "      <td>3.035646</td>\n",
       "    </tr>\n",
       "    <tr>\n",
       "      <th>without</th>\n",
       "      <td>691.711985</td>\n",
       "    </tr>\n",
       "    <tr>\n",
       "      <th rowspan=\"2\" valign=\"top\">rackform1</th>\n",
       "      <th>quota-1001</th>\n",
       "      <td>1.466216</td>\n",
       "    </tr>\n",
       "    <tr>\n",
       "      <th>without</th>\n",
       "      <td>562.047737</td>\n",
       "    </tr>\n",
       "    <tr>\n",
       "      <th rowspan=\"4\" valign=\"top\">stressng-cpu-remap</th>\n",
       "      <th rowspan=\"2\" valign=\"top\">issdm-3</th>\n",
       "      <th>quota-1000</th>\n",
       "      <td>9.250959</td>\n",
       "    </tr>\n",
       "    <tr>\n",
       "      <th>without</th>\n",
       "      <td>936.621828</td>\n",
       "    </tr>\n",
       "    <tr>\n",
       "      <th rowspan=\"2\" valign=\"top\">rackform1</th>\n",
       "      <th>quota-1001</th>\n",
       "      <td>2.070695</td>\n",
       "    </tr>\n",
       "    <tr>\n",
       "      <th>without</th>\n",
       "      <td>501.889028</td>\n",
       "    </tr>\n",
       "    <tr>\n",
       "      <th rowspan=\"4\" valign=\"top\">stressng-cpu-str</th>\n",
       "      <th rowspan=\"2\" valign=\"top\">issdm-3</th>\n",
       "      <th>quota-1000</th>\n",
       "      <td>13.414546</td>\n",
       "    </tr>\n",
       "    <tr>\n",
       "      <th>without</th>\n",
       "      <td>1362.434173</td>\n",
       "    </tr>\n",
       "    <tr>\n",
       "      <th rowspan=\"2\" valign=\"top\">rackform1</th>\n",
       "      <th>quota-1001</th>\n",
       "      <td>15.505646</td>\n",
       "    </tr>\n",
       "    <tr>\n",
       "      <th>without</th>\n",
       "      <td>3838.397029</td>\n",
       "    </tr>\n",
       "    <tr>\n",
       "      <th rowspan=\"4\" valign=\"top\">stressng-cpu-stream</th>\n",
       "      <th rowspan=\"2\" valign=\"top\">issdm-3</th>\n",
       "      <th>quota-1000</th>\n",
       "      <td>10.899432</td>\n",
       "    </tr>\n",
       "    <tr>\n",
       "      <th>without</th>\n",
       "      <td>2009.771007</td>\n",
       "    </tr>\n",
       "    <tr>\n",
       "      <th rowspan=\"2\" valign=\"top\">rackform1</th>\n",
       "      <th>quota-1001</th>\n",
       "      <td>0.568964</td>\n",
       "    </tr>\n",
       "    <tr>\n",
       "      <th>without</th>\n",
       "      <td>644.129042</td>\n",
       "    </tr>\n",
       "    <tr>\n",
       "      <th rowspan=\"4\" valign=\"top\">stressng-cpu-tlb-shootdown</th>\n",
       "      <th rowspan=\"2\" valign=\"top\">issdm-3</th>\n",
       "      <th>quota-1000</th>\n",
       "      <td>1.133308</td>\n",
       "    </tr>\n",
       "    <tr>\n",
       "      <th>without</th>\n",
       "      <td>364.709091</td>\n",
       "    </tr>\n",
       "    <tr>\n",
       "      <th rowspan=\"2\" valign=\"top\">rackform1</th>\n",
       "      <th>quota-1001</th>\n",
       "      <td>1.058854</td>\n",
       "    </tr>\n",
       "    <tr>\n",
       "      <th>without</th>\n",
       "      <td>633.396021</td>\n",
       "    </tr>\n",
       "    <tr>\n",
       "      <th rowspan=\"4\" valign=\"top\">stressng-cpu-tsearch</th>\n",
       "      <th rowspan=\"2\" valign=\"top\">issdm-3</th>\n",
       "      <th>quota-1000</th>\n",
       "      <td>2.423723</td>\n",
       "    </tr>\n",
       "    <tr>\n",
       "      <th>without</th>\n",
       "      <td>218.668952</td>\n",
       "    </tr>\n",
       "    <tr>\n",
       "      <th rowspan=\"2\" valign=\"top\">rackform1</th>\n",
       "      <th>quota-1001</th>\n",
       "      <td>2.028017</td>\n",
       "    </tr>\n",
       "    <tr>\n",
       "      <th>without</th>\n",
       "      <td>432.600850</td>\n",
       "    </tr>\n",
       "    <tr>\n",
       "      <th rowspan=\"4\" valign=\"top\">stressng-cpu-vecmath</th>\n",
       "      <th rowspan=\"2\" valign=\"top\">issdm-3</th>\n",
       "      <th>quota-1000</th>\n",
       "      <td>9.357258</td>\n",
       "    </tr>\n",
       "    <tr>\n",
       "      <th>without</th>\n",
       "      <td>954.476359</td>\n",
       "    </tr>\n",
       "    <tr>\n",
       "      <th rowspan=\"2\" valign=\"top\">rackform1</th>\n",
       "      <th>quota-1001</th>\n",
       "      <td>14.254576</td>\n",
       "    </tr>\n",
       "    <tr>\n",
       "      <th>without</th>\n",
       "      <td>3432.896208</td>\n",
       "    </tr>\n",
       "    <tr>\n",
       "      <th rowspan=\"4\" valign=\"top\">stressng-cpu-wcs</th>\n",
       "      <th rowspan=\"2\" valign=\"top\">issdm-3</th>\n",
       "      <th>quota-1000</th>\n",
       "      <td>9.687612</td>\n",
       "    </tr>\n",
       "    <tr>\n",
       "      <th>without</th>\n",
       "      <td>986.365632</td>\n",
       "    </tr>\n",
       "    <tr>\n",
       "      <th rowspan=\"2\" valign=\"top\">rackform1</th>\n",
       "      <th>quota-1001</th>\n",
       "      <td>7.474083</td>\n",
       "    </tr>\n",
       "    <tr>\n",
       "      <th>without</th>\n",
       "      <td>1759.247040</td>\n",
       "    </tr>\n",
       "    <tr>\n",
       "      <th rowspan=\"4\" valign=\"top\">stressng-cpu-zero</th>\n",
       "      <th rowspan=\"2\" valign=\"top\">issdm-3</th>\n",
       "      <th>quota-1000</th>\n",
       "      <td>2.353361</td>\n",
       "    </tr>\n",
       "    <tr>\n",
       "      <th>without</th>\n",
       "      <td>240.534538</td>\n",
       "    </tr>\n",
       "    <tr>\n",
       "      <th rowspan=\"2\" valign=\"top\">rackform1</th>\n",
       "      <th>quota-1001</th>\n",
       "      <td>1.686319</td>\n",
       "    </tr>\n",
       "    <tr>\n",
       "      <th>without</th>\n",
       "      <td>360.895219</td>\n",
       "    </tr>\n",
       "  </tbody>\n",
       "</table>"
      ],
      "text/plain": [
       "<IPython.core.display.HTML object>"
      ]
     },
     "execution_count": 4,
     "metadata": {},
     "output_type": "execute_result"
    }
   ],
   "source": [
    "HTML(norm_grouped.to_html())"
   ]
  },
  {
   "cell_type": "code",
   "execution_count": 5,
   "metadata": {
    "collapsed": false,
    "scrolled": true
   },
   "outputs": [
    {
     "data": {
      "text/plain": [
       "44"
      ]
     },
     "execution_count": 5,
     "metadata": {},
     "output_type": "execute_result"
    }
   ],
   "source": [
    "withcpu_only = norm_grouped.copy()\n",
    "withcpu_only.reset_index(inplace=True)\n",
    "withcpu_only = withcpu_only[withcpu_only['limits'] != 'without']\n",
    "len(withcpu_only.index)"
   ]
  },
  {
   "cell_type": "code",
   "execution_count": 6,
   "metadata": {
    "collapsed": false
   },
   "outputs": [
    {
     "data": {
      "text/plain": [
       "1"
      ]
     },
     "execution_count": 6,
     "metadata": {},
     "output_type": "execute_result"
    }
   ],
   "source": [
    "# show number of tests with normalized result (speedup/slowdown) within 10% of the base result\n",
    "len(withcpu_only[(withcpu_only.normalized >= 0.90) & (withcpu_only.normalized <= 1.10)])"
   ]
  },
  {
   "cell_type": "code",
   "execution_count": 8,
   "metadata": {
    "collapsed": false
   },
   "outputs": [
    {
     "data": {
      "text/plain": [
       "22"
      ]
     },
     "execution_count": 8,
     "metadata": {},
     "output_type": "execute_result"
    }
   ],
   "source": [
    "# show number of tests with normalized result outside this 10%\n",
    "len(withcpu_only[((withcpu_only['normalized'] < 0.90) | (withcpu_only['normalized'] > 1.10))])"
   ]
  },
  {
   "cell_type": "code",
   "execution_count": 7,
   "metadata": {
    "collapsed": false
   },
   "outputs": [
    {
     "data": {
      "image/png": "[encoded data removed]",
      "text/plain": [
       "<matplotlib.figure.Figure at 0x7f8a71fb9e10>"
      ]
     },
     "metadata": {},
     "output_type": "display_data"
    }
   ],
   "source": [
    "plt.figure(figsize=(20,10))\n",
    "bins=[.5, .55,.6,.65,.7,.75,.8,.85,.9,.95,1,1.05,1.1,1.15,1.2,1.25,1.3,1.35,1.4,1.45,1.5,1.55,1.6,1.65,1.7,1.75,1.8,1.85,1.9,1.95,2]\n",
    "ax = withcpu_only[withcpu_only['machine'] == 'issdm-3'].normalized.hist(bins=20,xrot=90)\n",
    "ticks = ax.set_xticks(bins)\n",
    "ticks = ax.set_yticks(range(0,16))"
   ]
  },
  {
   "cell_type": "code",
   "execution_count": 8,
   "metadata": {
    "collapsed": false
   },
   "outputs": [
    {
     "data": {
      "text/plain": [
       "0"
      ]
     },
     "execution_count": 8,
     "metadata": {},
     "output_type": "execute_result"
    }
   ],
   "source": [
    "withcpumem_only = norm_grouped.copy()\n",
    "withcpumem_only.reset_index(inplace=True)\n",
    "withcpumem_only = withcpumem_only[withcpumem_only['limits'] == 'withmemcpu']\n",
    "len(withcpumem_only.index)"
   ]
  },
  {
   "cell_type": "code",
   "execution_count": 9,
   "metadata": {
    "collapsed": false
   },
   "outputs": [
    {
     "data": {
      "image/png": "[encoded data removed]",
      "text/plain": [
       "<matplotlib.figure.Figure at 0x7f8a7034e710>"
      ]
     },
     "metadata": {},
     "output_type": "display_data"
    }
   ],
   "source": [
    "plt.figure(figsize=(20,10))\n",
    "bins=[.5, .55,.6,.65,.7,.75,.8,.85,.9,.95,1,1.05,1.1,1.15,1.2,1.25,1.3,1.35,1.4,1.45,1.5,1.55,1.6,1.65,1.7,1.75,1.8,1.85,1.9,1.95,2]\n",
    "ax = withcpu_only.normalized.hist(bins=bins,xrot=90)\n",
    "ticks = ax.set_xticks(bins)\n",
    "ticks = ax.set_yticks(range(0,16))"
   ]
  },
  {
   "cell_type": "code",
   "execution_count": 10,
   "metadata": {
    "collapsed": false
   },
   "outputs": [],
   "source": [
    "df = pd.read_csv('alltests_with_normalized_results.csv')"
   ]
  },
  {
   "cell_type": "code",
   "execution_count": 11,
   "metadata": {
    "collapsed": false
   },
   "outputs": [
    {
     "data": {
      "text/plain": [
       "array(['stressng-cpu-bsearch', 'stressng-cpu-context', 'stressng-cpu-cpu',\n",
       "       'stressng-cpu-crypt', 'stressng-cpu-full', 'stressng-cpu-hsearch',\n",
       "       'stressng-cpu-longjmp', 'stressng-cpu-lsearch',\n",
       "       'stressng-cpu-malloc', 'stressng-cpu-matrix', 'stressng-cpu-memcpy',\n",
       "       'stressng-cpu-mincore', 'stressng-cpu-null', 'stressng-cpu-pipe',\n",
       "       'stressng-cpu-remap', 'stressng-cpu-str', 'stressng-cpu-stream',\n",
       "       'stressng-cpu-tlb-shootdown', 'stressng-cpu-tsearch',\n",
       "       'stressng-cpu-vecmath', 'stressng-cpu-wcs', 'stressng-cpu-zero'], dtype=object)"
      ]
     },
     "execution_count": 11,
     "metadata": {},
     "output_type": "execute_result"
    }
   ],
   "source": [
    "df.benchmark.unique()"
   ]
  },
  {
   "cell_type": "code",
   "execution_count": 12,
   "metadata": {
    "collapsed": false
   },
   "outputs": [
    {
     "data": {
      "text/plain": [
       "22"
      ]
     },
     "execution_count": 12,
     "metadata": {},
     "output_type": "execute_result"
    }
   ],
   "source": [
    "len(df.benchmark.unique())"
   ]
  },
  {
   "cell_type": "code",
   "execution_count": 13,
   "metadata": {
    "collapsed": true
   },
   "outputs": [],
   "source": [
    "norm_grouped = df.copy().groupby(['benchmark','machine', 'limits', 'class'])['normalized'].mean().to_frame()"
   ]
  },
  {
   "cell_type": "code",
   "execution_count": 14,
   "metadata": {
    "collapsed": false
   },
   "outputs": [],
   "source": [
    "norm_grouped.reset_index(inplace=True)\n"
   ]
  },
  {
   "cell_type": "code",
   "execution_count": 15,
   "metadata": {
    "collapsed": false
   },
   "outputs": [
    {
     "data": {
      "text/html": [
       "<div>\n",
       "<table border=\"1\" class=\"dataframe\">\n",
       "  <thead>\n",
       "    <tr style=\"text-align: right;\">\n",
       "      <th></th>\n",
       "      <th></th>\n",
       "      <th></th>\n",
       "      <th>normalized</th>\n",
       "    </tr>\n",
       "    <tr>\n",
       "      <th>machine</th>\n",
       "      <th>limits</th>\n",
       "      <th>class</th>\n",
       "      <th></th>\n",
       "    </tr>\n",
       "  </thead>\n",
       "  <tbody>\n",
       "    <tr>\n",
       "      <th rowspan=\"4\" valign=\"top\">issdm-3</th>\n",
       "      <th rowspan=\"2\" valign=\"top\">quota-1000</th>\n",
       "      <th>cpu</th>\n",
       "      <td>7.474131</td>\n",
       "    </tr>\n",
       "    <tr>\n",
       "      <th>memory</th>\n",
       "      <td>10.816794</td>\n",
       "    </tr>\n",
       "    <tr>\n",
       "      <th rowspan=\"2\" valign=\"top\">without</th>\n",
       "      <th>cpu</th>\n",
       "      <td>1025.795522</td>\n",
       "    </tr>\n",
       "    <tr>\n",
       "      <th>memory</th>\n",
       "      <td>1199.015711</td>\n",
       "    </tr>\n",
       "    <tr>\n",
       "      <th rowspan=\"4\" valign=\"top\">rackform1</th>\n",
       "      <th rowspan=\"2\" valign=\"top\">quota-1001</th>\n",
       "      <th>cpu</th>\n",
       "      <td>6.412017</td>\n",
       "    </tr>\n",
       "    <tr>\n",
       "      <th>memory</th>\n",
       "      <td>7.326635</td>\n",
       "    </tr>\n",
       "    <tr>\n",
       "      <th rowspan=\"2\" valign=\"top\">without</th>\n",
       "      <th>cpu</th>\n",
       "      <td>1981.117574</td>\n",
       "    </tr>\n",
       "    <tr>\n",
       "      <th>memory</th>\n",
       "      <td>1898.913331</td>\n",
       "    </tr>\n",
       "  </tbody>\n",
       "</table>\n",
       "</div>"
      ],
      "text/plain": [
       "                              normalized\n",
       "machine   limits     class              \n",
       "issdm-3   quota-1000 cpu        7.474131\n",
       "                     memory    10.816794\n",
       "          without    cpu     1025.795522\n",
       "                     memory  1199.015711\n",
       "rackform1 quota-1001 cpu        6.412017\n",
       "                     memory     7.326635\n",
       "          without    cpu     1981.117574\n",
       "                     memory  1898.913331"
      ]
     },
     "execution_count": 15,
     "metadata": {},
     "output_type": "execute_result"
    }
   ],
   "source": [
    "norm_grouped.copy().groupby(['machine', 'limits', 'class'])['normalized'].mean().to_frame()"
   ]
  },
  {
   "cell_type": "code",
   "execution_count": 16,
   "metadata": {
    "collapsed": false
   },
   "outputs": [
    {
     "data": {
      "text/html": [
       "<div>\n",
       "<table border=\"1\" class=\"dataframe\">\n",
       "  <thead>\n",
       "    <tr style=\"text-align: right;\">\n",
       "      <th></th>\n",
       "      <th></th>\n",
       "      <th></th>\n",
       "      <th>normalized</th>\n",
       "    </tr>\n",
       "    <tr>\n",
       "      <th>machine</th>\n",
       "      <th>limits</th>\n",
       "      <th>class</th>\n",
       "      <th></th>\n",
       "    </tr>\n",
       "  </thead>\n",
       "  <tbody>\n",
       "    <tr>\n",
       "      <th rowspan=\"4\" valign=\"top\">issdm-3</th>\n",
       "      <th rowspan=\"2\" valign=\"top\">quota-1000</th>\n",
       "      <th>cpu</th>\n",
       "      <td>7.918752</td>\n",
       "    </tr>\n",
       "    <tr>\n",
       "      <th>memory</th>\n",
       "      <td>5.504377</td>\n",
       "    </tr>\n",
       "    <tr>\n",
       "      <th rowspan=\"2\" valign=\"top\">without</th>\n",
       "      <th>cpu</th>\n",
       "      <td>954.476359</td>\n",
       "    </tr>\n",
       "    <tr>\n",
       "      <th>memory</th>\n",
       "      <td>665.356224</td>\n",
       "    </tr>\n",
       "    <tr>\n",
       "      <th rowspan=\"4\" valign=\"top\">rackform1</th>\n",
       "      <th rowspan=\"2\" valign=\"top\">quota-1001</th>\n",
       "      <th>cpu</th>\n",
       "      <td>5.818498</td>\n",
       "    </tr>\n",
       "    <tr>\n",
       "      <th>memory</th>\n",
       "      <td>2.400783</td>\n",
       "    </tr>\n",
       "    <tr>\n",
       "      <th rowspan=\"2\" valign=\"top\">without</th>\n",
       "      <th>cpu</th>\n",
       "      <td>1517.313883</td>\n",
       "    </tr>\n",
       "    <tr>\n",
       "      <th>memory</th>\n",
       "      <td>665.742965</td>\n",
       "    </tr>\n",
       "  </tbody>\n",
       "</table>\n",
       "</div>"
      ],
      "text/plain": [
       "                              normalized\n",
       "machine   limits     class              \n",
       "issdm-3   quota-1000 cpu        7.918752\n",
       "                     memory     5.504377\n",
       "          without    cpu      954.476359\n",
       "                     memory   665.356224\n",
       "rackform1 quota-1001 cpu        5.818498\n",
       "                     memory     2.400783\n",
       "          without    cpu     1517.313883\n",
       "                     memory   665.742965"
      ]
     },
     "execution_count": 16,
     "metadata": {},
     "output_type": "execute_result"
    }
   ],
   "source": [
    "norm_grouped.copy().groupby(['machine', 'limits', 'class'])['normalized'].median().to_frame()"
   ]
  },
  {
   "cell_type": "code",
   "execution_count": 17,
   "metadata": {
    "collapsed": false
   },
   "outputs": [
    {
     "data": {
      "text/html": [
       "<div>\n",
       "<table border=\"1\" class=\"dataframe\">\n",
       "  <thead>\n",
       "    <tr style=\"text-align: right;\">\n",
       "      <th></th>\n",
       "      <th></th>\n",
       "      <th></th>\n",
       "      <th>normalized</th>\n",
       "    </tr>\n",
       "    <tr>\n",
       "      <th>machine</th>\n",
       "      <th>limits</th>\n",
       "      <th>class</th>\n",
       "      <th></th>\n",
       "    </tr>\n",
       "  </thead>\n",
       "  <tbody>\n",
       "  </tbody>\n",
       "</table>\n",
       "</div>"
      ],
      "text/plain": [
       "Empty DataFrame\n",
       "Columns: [normalized]\n",
       "Index: []"
      ]
     },
     "execution_count": 17,
     "metadata": {},
     "output_type": "execute_result"
    }
   ],
   "source": [
    "norm_grouped[(norm_grouped.normalized > .83) & (norm_grouped.normalized < .93)].copy().groupby(['machine', 'limits', 'class'])['normalized'].count().to_frame()"
   ]
  },
  {
   "cell_type": "code",
   "execution_count": 20,
   "metadata": {
    "collapsed": false
   },
   "outputs": [
    {
     "data": {
      "text/plain": [
       "array(['cpu'], dtype=object)"
      ]
     },
     "execution_count": 20,
     "metadata": {},
     "output_type": "execute_result"
    }
   ],
   "source": [
    "pd.unique(norm_grouped['class'])"
   ]
  },
  {
   "cell_type": "code",
   "execution_count": 19,
   "metadata": {
    "collapsed": false
   },
   "outputs": [
    {
     "data": {
      "text/html": [
       "<div>\n",
       "<table border=\"1\" class=\"dataframe\">\n",
       "  <thead>\n",
       "    <tr style=\"text-align: right;\">\n",
       "      <th></th>\n",
       "      <th>benchmark</th>\n",
       "      <th>base_result</th>\n",
       "      <th>machine</th>\n",
       "      <th>limits</th>\n",
       "      <th>class</th>\n",
       "      <th>lower_is_better</th>\n",
       "      <th>repetition</th>\n",
       "      <th>result</th>\n",
       "      <th>normalized</th>\n",
       "    </tr>\n",
       "  </thead>\n",
       "  <tbody>\n",
       "  </tbody>\n",
       "</table>\n",
       "</div>"
      ],
      "text/plain": [
       "Empty DataFrame\n",
       "Columns: [benchmark, base_result, machine, limits, class, lower_is_better, repetition, result, normalized]\n",
       "Index: []"
      ]
     },
     "execution_count": 19,
     "metadata": {},
     "output_type": "execute_result"
    }
   ],
   "source": [
    "df[(df['machine'] == 'nibbler.soe.ucsc.edu') & (df['benchmark'] == 'stressng-cpu-bitops')]"
   ]
  },
  {
   "cell_type": "code",
   "execution_count": 20,
   "metadata": {
    "collapsed": false
   },
   "outputs": [
    {
     "data": {
      "text/plain": [
       "array(['issdm-3', 'rackform1'], dtype=object)"
      ]
     },
     "execution_count": 20,
     "metadata": {},
     "output_type": "execute_result"
    }
   ],
   "source": [
    "pd.unique(norm_grouped.machine)"
   ]
  },
  {
   "cell_type": "code",
   "execution_count": 21,
   "metadata": {
    "collapsed": false
   },
   "outputs": [
    {
     "data": {
      "text/html": [
       "<div>\n",
       "<table border=\"1\" class=\"dataframe\">\n",
       "  <thead>\n",
       "    <tr style=\"text-align: right;\">\n",
       "      <th></th>\n",
       "      <th>benchmark</th>\n",
       "      <th>machine</th>\n",
       "      <th>limits</th>\n",
       "      <th>class</th>\n",
       "      <th>normalized</th>\n",
       "    </tr>\n",
       "  </thead>\n",
       "  <tbody>\n",
       "  </tbody>\n",
       "</table>\n",
       "</div>"
      ],
      "text/plain": [
       "Empty DataFrame\n",
       "Columns: [benchmark, machine, limits, class, normalized]\n",
       "Index: []"
      ]
     },
     "execution_count": 21,
     "metadata": {},
     "output_type": "execute_result"
    }
   ],
   "source": [
    "norm_grouped[(norm_grouped['machine'] == '192.168.140.82') & (norm_grouped.limits =='without') & (norm_grouped.normalized > 18)]"
   ]
  },
  {
   "cell_type": "code",
   "execution_count": 22,
   "metadata": {
    "collapsed": false
   },
   "outputs": [
    {
     "data": {
      "text/html": [
       "<div>\n",
       "<table border=\"1\" class=\"dataframe\">\n",
       "  <thead>\n",
       "    <tr style=\"text-align: right;\">\n",
       "      <th></th>\n",
       "      <th>machine</th>\n",
       "      <th>limits</th>\n",
       "      <th>class</th>\n",
       "      <th>normalized_max</th>\n",
       "      <th>normalized_min</th>\n",
       "      <th>range</th>\n",
       "    </tr>\n",
       "  </thead>\n",
       "  <tbody>\n",
       "  </tbody>\n",
       "</table>\n",
       "</div>"
      ],
      "text/plain": [
       "Empty DataFrame\n",
       "Columns: [machine, limits, class, normalized_max, normalized_min, range]\n",
       "Index: []"
      ]
     },
     "execution_count": 22,
     "metadata": {},
     "output_type": "execute_result"
    }
   ],
   "source": [
    "maxes = norm_grouped.groupby(['machine', 'limits']).max()\n",
    "maxes.reset_index(inplace=True)\n",
    "maxes.rename(columns={'normalized': 'normalized_max'}, inplace=True)\n",
    "\n",
    "mines = norm_grouped.groupby(['machine', 'limits']).min()\n",
    "mines.reset_index(inplace=True)\n",
    "mines.rename(columns={'normalized': 'normalized_min'}, inplace=True)\n",
    "\n",
    "mines.drop('benchmark', axis=1, inplace=True)\n",
    "maxes.drop('benchmark', axis=1, inplace=True)\n",
    "\n",
    "maxs_and_mins = pd.merge(maxes, mines, on=['machine','limits','class'])\n",
    "maxs_and_mins['range'] = maxs_and_mins['normalized_max'] - maxs_and_mins['normalized_min']\n",
    "maxs_and_mins"
   ]
  },
  {
   "cell_type": "code",
   "execution_count": 25,
   "metadata": {
    "collapsed": false
   },
   "outputs": [
    {
     "data": {
      "text/html": [
       "<div>\n",
       "<table border=\"1\" class=\"dataframe\">\n",
       "  <thead>\n",
       "    <tr style=\"text-align: right;\">\n",
       "      <th></th>\n",
       "      <th></th>\n",
       "      <th>benchmark</th>\n",
       "      <th>class</th>\n",
       "      <th>normalized</th>\n",
       "    </tr>\n",
       "    <tr>\n",
       "      <th>machine</th>\n",
       "      <th>limits</th>\n",
       "      <th></th>\n",
       "      <th></th>\n",
       "      <th></th>\n",
       "    </tr>\n",
       "  </thead>\n",
       "  <tbody>\n",
       "    <tr>\n",
       "      <th rowspan=\"2\" valign=\"top\">issdm-3</th>\n",
       "      <th>quota-1000</th>\n",
       "      <td>stressng-cpu-bsearch</td>\n",
       "      <td>cpu</td>\n",
       "      <td>2.423723</td>\n",
       "    </tr>\n",
       "    <tr>\n",
       "      <th>without</th>\n",
       "      <td>stressng-cpu-bsearch</td>\n",
       "      <td>cpu</td>\n",
       "      <td>132.308324</td>\n",
       "    </tr>\n",
       "    <tr>\n",
       "      <th rowspan=\"2\" valign=\"top\">rackform1</th>\n",
       "      <th>quota-1001</th>\n",
       "      <td>stressng-cpu-bsearch</td>\n",
       "      <td>cpu</td>\n",
       "      <td>0.568964</td>\n",
       "    </tr>\n",
       "    <tr>\n",
       "      <th>without</th>\n",
       "      <td>stressng-cpu-bsearch</td>\n",
       "      <td>cpu</td>\n",
       "      <td>175.369355</td>\n",
       "    </tr>\n",
       "  </tbody>\n",
       "</table>\n",
       "</div>"
      ],
      "text/plain": [
       "                                 benchmark class  normalized\n",
       "machine   limits                                            \n",
       "issdm-3   quota-1000  stressng-cpu-bsearch   cpu    2.423723\n",
       "          without     stressng-cpu-bsearch   cpu  132.308324\n",
       "rackform1 quota-1001  stressng-cpu-bsearch   cpu    0.568964\n",
       "          without     stressng-cpu-bsearch   cpu  175.369355"
      ]
     },
     "execution_count": 25,
     "metadata": {},
     "output_type": "execute_result"
    }
   ],
   "source": [
    "norm_grouped.groupby(['machine', 'limits']).min()"
   ]
  },
  {
   "cell_type": "code",
   "execution_count": 57,
   "metadata": {
    "collapsed": false
   },
   "outputs": [
    {
     "data": {
      "image/png": "[encoded data removed]",
      "text/plain": [
       "<matplotlib.figure.Figure at 0x7f8a6000ea58>"
      ]
     },
     "metadata": {},
     "output_type": "display_data"
    }
   ],
   "source": [
    "#plt.figure(figsize=(20,10))\n",
    "bins=[.5, .55,.6,.65,.7,.75,.8,.85,.9,.95,1,1.05,1.1,1.15,1.2,1.25,1.3,1.35,1.4,1.45,1.5,1.55,1.6,1.65,1.7,1.75,1.8,1.85,1.9,1.95,2,3.25,3.5,3.75,4,4.25,4.5,4.75,5,6,7,8,9]\n",
    "pred = ((norm_grouped['machine'] == 'issdm-3') & (norm_grouped['limits'] == 'without'))\n",
    "\n",
    "ax = norm_grouped[pred].groupby('limits').normalized.hist(bins=50,xrot=90,figsize=(16,6),alpha=0.5)\n",
    "\n",
    "#ticks = ax[0].set_xticks(np.arange(0,8,.1))\n",
    "#ticks = ax[0].set_yticks(range(0,25))\n",
    "plt.xlabel('Speedup (re-execution / original)')\n",
    "plt.ylabel('Frequency (# of benchmarks)')\n",
    "plt.savefig('without_limits.png', bbox_inches='tight', dpi=300)"
   ]
  },
  {
   "cell_type": "code",
   "execution_count": 58,
   "metadata": {
    "collapsed": false
   },
   "outputs": [
    {
     "data": {
      "image/png": "[encoded data removed]",
      "text/plain": [
       "<matplotlib.figure.Figure at 0x7f8a5fea8860>"
      ]
     },
     "metadata": {},
     "output_type": "display_data"
    }
   ],
   "source": [
    "#plt.figure(figsize=(20,10))\n",
    "bins=[.5, .55,.6,.65,.7,.75,.8,.85,.9,.95,1,1.05,1.1,1.15,1.2,1.25,1.3,1.35,1.4,1.45,1.5,1.55,1.6,1.65,1.7,1.75,1.8,1.85,1.9,1.95,2,3.25,3.5,3.75,4,4.25,4.5,4.75,5,6,7,8,9]\n",
    "pred = ((norm_grouped['machine'] == 'issdm-3') & (norm_grouped['limits'] != 'without'))\n",
    "\n",
    "ax = norm_grouped[pred].groupby('limits').normalized.hist(bins=50,xrot=90,figsize=(16,6),alpha=0.5)\n",
    "\n",
    "#ticks = ax[0].set_xticks(np.arange(0,8,.1))\n",
    "#ticks = ax[0].set_yticks(range(0,25))\n",
    "plt.xlabel('Speedup (re-execution / original)')\n",
    "plt.ylabel('Frequency (# of benchmarks)')\n",
    "plt.savefig('with_limits.png', bbox_inches='tight', dpi=300)"
   ]
  },
  {
   "cell_type": "code",
   "execution_count": 27,
   "metadata": {
    "collapsed": false
   },
   "outputs": [
    {
     "data": {
      "image/png": "[encoded data removed]",
      "text/plain": [
       "<matplotlib.figure.Figure at 0x7f14b3837128>"
      ]
     },
     "metadata": {},
     "output_type": "display_data"
    }
   ],
   "source": [
    "#plt.figure(figsize=(20,10))\n",
    "bins=[.5, .55,.6,.65,.7,.75,.8,.85,.9,.95,1,1.05,1.1,1.15,1.2,1.25,1.3,1.35,1.4,1.45,1.5,1.55,1.6,1.65,1.7,1.75,1.8,1.85,1.9,1.95,2,3.25,3.5,3.75,4,4.25,4.5,4.75,5,6,7,8,9]\n",
    "pred=(\n",
    "      (norm_grouped['machine'] == 'issdm-3'))\n",
    "\n",
    "ax = norm_grouped[pred].groupby('limits').normalized.hist(bins=np.arange(0,8,.1),xrot=90,figsize=(16,6),alpha=0.5)\n",
    "plt.axvline(x=2.6,color='b',linewidth=3, alpha=0.5)\n",
    "plt.axvline(x=.5,color='b',linewidth=3, alpha=0.5)\n",
    "plt.axvline(x=7.2,color='g',linewidth=3, alpha=0.5)\n",
    "plt.axvline(x=1.6,color='g',linewidth=3, alpha=0.5)\n",
    "ticks = ax[0].set_xticks(np.arange(0,8,.1))\n",
    "ticks = ax[0].set_yticks(range(0,17))\n",
    "plt.xlabel('Speedup (re-execution / original)')\n",
    "plt.ylabel('Frequency (# of benchmarks)')\n",
    "plt.savefig('benchmarks.png', bbox_inches='tight', dpi=300)"
   ]
  },
  {
   "cell_type": "code",
   "execution_count": null,
   "metadata": {
    "collapsed": false
   },
   "outputs": [],
   "source": [
    "norm_grouped[(norm_grouped['machine'] == '192.168.140.86') & (norm_grouped.limits == 'without') & (norm_grouped.normalized < 1.6)]"
   ]
  }
 ],
 "metadata": {
  "kernelspec": {
   "display_name": "Python 3",
   "language": "python",
   "name": "python3"
  },
  "language_info": {
   "codemirror_mode": {
    "name": "ipython",
    "version": 3
   },
   "file_extension": ".py",
   "mimetype": "text/x-python",
   "name": "python",
   "nbconvert_exporter": "python",
   "pygments_lexer": "ipython3",
   "version": "3.5.1"
  },
  "widgets": {
   "state": {},
   "version": "1.1.1"
  }
 },
 "nbformat": 4,
 "nbformat_minor": 0
}
